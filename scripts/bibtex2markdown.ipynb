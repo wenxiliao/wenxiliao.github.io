{
 "cells": [
  {
   "cell_type": "code",
   "execution_count": null,
   "id": "1b862107",
   "metadata": {
    "vscode": {
     "languageId": "plaintext"
    }
   },
   "outputs": [],
   "source": [
    "BIBTEX_FILE = \"_publications/publications.bib\"\n",
    "PUBLICATIONS_FOLDER = \"_publications/\""
   ]
  }
 ],
 "metadata": {
  "language_info": {
   "name": "python"
  }
 },
 "nbformat": 4,
 "nbformat_minor": 5
}
